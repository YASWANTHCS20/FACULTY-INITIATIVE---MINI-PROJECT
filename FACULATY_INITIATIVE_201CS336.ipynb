{
  "nbformat": 4,
  "nbformat_minor": 0,
  "metadata": {
    "colab": {
      "provenance": [],
      "authorship_tag": "ABX9TyMkmCXAYGQhROalzeUHfi5q",
      "include_colab_link": true
    },
    "kernelspec": {
      "name": "python3",
      "display_name": "Python 3"
    },
    "language_info": {
      "name": "python"
    }
  },
  "cells": [
    {
      "cell_type": "markdown",
      "metadata": {
        "id": "view-in-github",
        "colab_type": "text"
      },
      "source": [
        "<a href=\"https://colab.research.google.com/github/YASWANTHCS20/FACULTY-INITIATIVE---MINI-PROJECT/blob/project/FACULATY_INITIATIVE_201CS336.ipynb\" target=\"_parent\"><img src=\"https://colab.research.google.com/assets/colab-badge.svg\" alt=\"Open In Colab\"/></a>"
      ]
    },
    {
      "cell_type": "code",
      "execution_count": null,
      "metadata": {
        "colab": {
          "base_uri": "https://localhost:8080/"
        },
        "id": "U3M0BqzQPbA2",
        "outputId": "0d20e50b-73bf-4c3a-842b-273591233a43"
      },
      "outputs": [
        {
          "output_type": "stream",
          "name": "stdout",
          "text": [
            "[(1, 3)]\n",
            "[(1, 2), (1, 3), (1, 4), (2, 1), (3, 2), (3, 4), (4, 2), (4, 3)]\n",
            "[]\n"
          ]
        }
      ],
      "source": [
        "def frequency(l):\n",
        " uniquelist = list(set(l))\n",
        " freq_list = [l.count(x) for x in uniquelist]\n",
        " min_freqlist = [uniquelist[x] for x in range(len(freq_list)) if freq_list[x]== min(freq_list)]\n",
        " max_freqlist = [uniquelist[x] for x in range(len(freq_list)) if freq_list[x]== max(freq_list)]\n",
        " min_freqlist.sort()\n",
        " max_freqlist.sort()\n",
        " return (min_freqlist, max_freqlist) \n",
        "def onehop(lst):\n",
        "  data = lst\n",
        "  data.sort(key=lambda tup: tup[0]) \n",
        "  ans = []\n",
        "  for ele in lst:\n",
        "    x, y = ele\n",
        "    for ele1 in lst:\n",
        "      if ele != ele1:\n",
        "        xx, yy = ele1\n",
        "        if y == xx and x != yy and (x,yy) not in ans: \n",
        "          ans.append((x, yy))\n",
        "  ans = sorted(ans, key=lambda tup: (tup[0], tup[1])) \n",
        "  return ans\n",
        "print(onehop([(2,3),(1,2)])) \n",
        "print(onehop([(2,3),(1,2),(3,1),(1,3),(3,2),(2,4),(4,1)]))\n",
        "print(onehop([(1,2),(3,4),(5,6)]))\n",
        " \n"
      ]
    }
  ]
}